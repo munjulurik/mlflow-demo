{
 "cells": [
  {
   "cell_type": "markdown",
   "id": "af81bd01",
   "metadata": {},
   "source": [
    "## Using ML Projects File"
   ]
  },
  {
   "cell_type": "markdown",
   "id": "08cfa85d",
   "metadata": {},
   "source": [
    "https://github.com/mlflow/mlflow-example"
   ]
  },
  {
   "cell_type": "code",
   "execution_count": 1,
   "id": "f9fe91d3",
   "metadata": {},
   "outputs": [],
   "source": [
    "import mlflow"
   ]
  },
  {
   "cell_type": "code",
   "execution_count": 2,
   "id": "5cf4ca75",
   "metadata": {},
   "outputs": [],
   "source": [
    "# using ml projects and tracking the runs as a new experiment\n",
    "\n",
    "# use set experiment method to either create a new experiment or set it as the experiment to record runs\n",
    "mlflow.set_experiment('ProjectsFileExample')"
   ]
  },
  {
   "cell_type": "code",
   "execution_count": 3,
   "id": "7daae1ca",
   "metadata": {},
   "outputs": [
    {
     "name": "stderr",
     "output_type": "stream",
     "text": [
      "2021/10/29 14:30:27 INFO mlflow.projects.utils: === Fetching project from https://github.com/mlflow/mlflow-example into /var/folders/fh/v8d9h_xj1f9dnnmhxy756qdc0000gn/T/tmpffusfm2q ===\n",
      "2021/10/29 14:30:30 INFO mlflow.projects.utils: === Created directory /var/folders/fh/v8d9h_xj1f9dnnmhxy756qdc0000gn/T/tmpluugac86 for downloading remote URIs passed to arguments of type 'path' ===\n",
      "2021/10/29 14:30:30 INFO mlflow.projects.backend.local: === Running command 'source /opt/anaconda3/bin/../etc/profile.d/conda.sh && conda activate mlflow-1abc00771765dd9dd15731cbda4938c765fbb90b 1>&2 && python train.py 0.5 0.01' in run with ID '8a6f01b7114148cfb11ff3056726c7d9' === \n",
      "2021/10/29 14:30:33 INFO mlflow.projects: === Run (ID '8a6f01b7114148cfb11ff3056726c7d9') succeeded ===\n"
     ]
    },
    {
     "data": {
      "text/plain": [
       "<mlflow.projects.submitted_run.LocalSubmittedRun at 0x7fc6a8d29670>"
      ]
     },
     "execution_count": 3,
     "metadata": {},
     "output_type": "execute_result"
    }
   ],
   "source": [
    "project_uri = \"https://github.com/mlflow/mlflow-example\"\n",
    "params = {\"alpha\": 0.5, \"l1_ratio\": 0.01}\n",
    "\n",
    "# Run MLflow project and create a reproducible conda environment\n",
    "# on a local host\n",
    "mlflow.run(project_uri, parameters=params)"
   ]
  },
  {
   "cell_type": "code",
   "execution_count": null,
   "id": "2c7a1831",
   "metadata": {},
   "outputs": [],
   "source": [
    "project_uri = \"https://github.com/mlflow/mlflow-example\"\n",
    "params = {\"alpha\": 0.2, \"l1_ratio\": 0.01}\n",
    "\n",
    "# running again with different parameters\n",
    "mlflow.run(project_uri, parameters=params, experiment_name='ProjectsFileExample')"
   ]
  },
  {
   "cell_type": "code",
   "execution_count": null,
   "id": "2dbeb8b4",
   "metadata": {},
   "outputs": [],
   "source": []
  }
 ],
 "metadata": {
  "kernelspec": {
   "display_name": "Python 3",
   "language": "python",
   "name": "python3"
  },
  "language_info": {
   "codemirror_mode": {
    "name": "ipython",
    "version": 3
   },
   "file_extension": ".py",
   "mimetype": "text/x-python",
   "name": "python",
   "nbconvert_exporter": "python",
   "pygments_lexer": "ipython3",
   "version": "3.8.8"
  }
 },
 "nbformat": 4,
 "nbformat_minor": 5
}
