{
 "cells": [
  {
   "cell_type": "code",
   "execution_count": 1,
   "id": "8c42ab9b",
   "metadata": {},
   "outputs": [],
   "source": [
    "import mlflow\n",
    "import pandas as pd\n",
    "import numpy as np\n",
    "import matplotlib.pyplot as plt\n",
    "from sklearn.preprocessing import OneHotEncoder\n",
    "from sklearn.model_selection import train_test_split\n",
    "from sklearn.tree import DecisionTreeClassifier\n",
    "import os"
   ]
  },
  {
   "cell_type": "markdown",
   "id": "19321add",
   "metadata": {},
   "source": [
    "### Data source: https://archive.ics.uci.edu/ml/datasets/Car+Evaluation"
   ]
  },
  {
   "cell_type": "code",
   "execution_count": 2,
   "id": "3b89203b",
   "metadata": {},
   "outputs": [
    {
     "data": {
      "text/html": [
       "<div>\n",
       "<style scoped>\n",
       "    .dataframe tbody tr th:only-of-type {\n",
       "        vertical-align: middle;\n",
       "    }\n",
       "\n",
       "    .dataframe tbody tr th {\n",
       "        vertical-align: top;\n",
       "    }\n",
       "\n",
       "    .dataframe thead th {\n",
       "        text-align: right;\n",
       "    }\n",
       "</style>\n",
       "<table border=\"1\" class=\"dataframe\">\n",
       "  <thead>\n",
       "    <tr style=\"text-align: right;\">\n",
       "      <th></th>\n",
       "      <th>buying</th>\n",
       "      <th>maint</th>\n",
       "      <th>doors</th>\n",
       "      <th>persons</th>\n",
       "      <th>lug_boot</th>\n",
       "      <th>safety</th>\n",
       "      <th>evaluation</th>\n",
       "    </tr>\n",
       "  </thead>\n",
       "  <tbody>\n",
       "    <tr>\n",
       "      <th>0</th>\n",
       "      <td>vhigh</td>\n",
       "      <td>vhigh</td>\n",
       "      <td>2</td>\n",
       "      <td>2</td>\n",
       "      <td>small</td>\n",
       "      <td>low</td>\n",
       "      <td>unacc</td>\n",
       "    </tr>\n",
       "    <tr>\n",
       "      <th>1</th>\n",
       "      <td>vhigh</td>\n",
       "      <td>vhigh</td>\n",
       "      <td>2</td>\n",
       "      <td>2</td>\n",
       "      <td>small</td>\n",
       "      <td>med</td>\n",
       "      <td>unacc</td>\n",
       "    </tr>\n",
       "    <tr>\n",
       "      <th>2</th>\n",
       "      <td>vhigh</td>\n",
       "      <td>vhigh</td>\n",
       "      <td>2</td>\n",
       "      <td>2</td>\n",
       "      <td>small</td>\n",
       "      <td>high</td>\n",
       "      <td>unacc</td>\n",
       "    </tr>\n",
       "    <tr>\n",
       "      <th>3</th>\n",
       "      <td>vhigh</td>\n",
       "      <td>vhigh</td>\n",
       "      <td>2</td>\n",
       "      <td>2</td>\n",
       "      <td>med</td>\n",
       "      <td>low</td>\n",
       "      <td>unacc</td>\n",
       "    </tr>\n",
       "    <tr>\n",
       "      <th>4</th>\n",
       "      <td>vhigh</td>\n",
       "      <td>vhigh</td>\n",
       "      <td>2</td>\n",
       "      <td>2</td>\n",
       "      <td>med</td>\n",
       "      <td>med</td>\n",
       "      <td>unacc</td>\n",
       "    </tr>\n",
       "  </tbody>\n",
       "</table>\n",
       "</div>"
      ],
      "text/plain": [
       "  buying  maint doors persons lug_boot safety evaluation\n",
       "0  vhigh  vhigh     2       2    small    low      unacc\n",
       "1  vhigh  vhigh     2       2    small    med      unacc\n",
       "2  vhigh  vhigh     2       2    small   high      unacc\n",
       "3  vhigh  vhigh     2       2      med    low      unacc\n",
       "4  vhigh  vhigh     2       2      med    med      unacc"
      ]
     },
     "execution_count": 2,
     "metadata": {},
     "output_type": "execute_result"
    }
   ],
   "source": [
    "\n",
    "# reading the dataset\n",
    "df = pd.read_csv('data/car.data', sep='\\n', header=None)\n",
    "\n",
    "# # defining column names\n",
    "columns = ['buying', 'maint', 'doors', 'persons', 'lug_boot', 'safety', 'evaluation']\n",
    "\n",
    "# # refining the dataframe\n",
    "df[columns] = df[0].str.split(',', expand=True)\n",
    "df.drop(columns=[0], inplace=True)\n",
    "\n",
    "df.head()"
   ]
  },
  {
   "cell_type": "code",
   "execution_count": 3,
   "id": "fecc4557",
   "metadata": {},
   "outputs": [],
   "source": [
    "# seperating dependant and independant variables\n",
    "\n",
    "X = df[['buying', 'maint', 'doors', 'persons', 'lug_boot', 'safety']]\n",
    "y = df['evaluation']"
   ]
  },
  {
   "cell_type": "code",
   "execution_count": 4,
   "id": "78bd7356",
   "metadata": {},
   "outputs": [],
   "source": [
    "# train test split\n",
    "train_X, test_X, train_y, test_y = train_test_split(X,y,random_state=0)"
   ]
  },
  {
   "cell_type": "code",
   "execution_count": 5,
   "id": "99a9f5a3",
   "metadata": {},
   "outputs": [],
   "source": [
    "# defining a new experiment\n",
    "experiment_name = 'SimpleClassification'\n",
    "# returns experiment ID\n",
    "try:\n",
    "    # creating a new experiment\n",
    "    exp_id = mlflow.create_experiment(name=experiment_name)\n",
    "except Exception as e:\n",
    "    exp_id = mlflow.get_experiment_by_name(experiment_name).experiment_id"
   ]
  },
  {
   "cell_type": "code",
   "execution_count": 7,
   "id": "bcca3df2",
   "metadata": {},
   "outputs": [],
   "source": [
    "if 'data_processed' not in os.listdir():\n",
    "    os.mkdir('data_processed')\n",
    "\n",
    "# starting an mlflow run, and tracking them under the experiment defined above\n",
    "with mlflow.start_run(experiment_id=exp_id, run_name='First_Classification_Model'):\n",
    "    \n",
    "    # adding tags to the run\n",
    "    mlflow.set_tag('Description','Simple Classification Model')\n",
    "    mlflow.set_tags({'ProblemType': 'Classification', 'ModelType': 'DecisionTree', 'ModelLibrary': 'Scikit-Learn'})\n",
    "    \n",
    "    # using one hot encoder to encode the categories\n",
    "    encoder = OneHotEncoder(handle_unknown='ignore')\n",
    "    \n",
    "    X_encoded_train = encoder.fit_transform(train_X)\n",
    "    train_x_encoded = pd.DataFrame(X_encoded_train.toarray())\n",
    "    \n",
    "    X_encoded_test = encoder.transform(test_X)\n",
    "    test_x_encoded = pd.DataFrame(X_encoded_test.toarray())\n",
    "    \n",
    "    # saving a copy of the encoded data\n",
    "    train_x_encoded.to_csv('data_processed/encoded_train.csv', sep='|', index=False)\n",
    "    test_x_encoded.to_csv('data_processed/encoded_test.csv', sep='|', index=False)\n",
    "    \n",
    "    # logging artifacts -> saves the copy of the data and enables tracking for later use\n",
    "    mlflow.log_artifacts('data_processed')\n",
    "    \n",
    "    # defining alpha and l1 ratio\n",
    "    max_depth, max_features = 5, 15\n",
    "    \n",
    "    # initiating an decision tree model\n",
    "    clf = DecisionTreeClassifier(random_state=0, max_depth=5, max_features=19)\n",
    "    \n",
    "    # fitting the model with train dataset\n",
    "    clf.fit(train_x_encoded, train_y)\n",
    "    \n",
    "    # logging explaination of the model\n",
    "    # mlflow.shap.log_explanation(clf.predict_proba, train_x_encoded)\n",
    "    \n",
    "    # making predictions on test set\n",
    "    clf.predict(test_x_encoded)\n",
    "\n",
    "    # obtaining the model performance\n",
    "    accuracy = clf.score(test_x_encoded, test_y)\n",
    "    \n",
    "    # logging hyperparameters defined above\n",
    "    mlflow.log_param(\"max_depth\", max_depth)\n",
    "    mlflow.log_param(\"max_features\", max_features)\n",
    "    \n",
    "    # logging performance of the model\n",
    "    mlflow.log_metric(\"accuracy\", accuracy)\n",
    "    \n",
    "    mlflow.sklearn.log_model(clf, 'SimpleClassification_Model')"
   ]
  },
  {
   "cell_type": "code",
   "execution_count": 8,
   "id": "a85ab787",
   "metadata": {},
   "outputs": [
    {
     "data": {
      "text/plain": [
       "array(['acc', 'good', 'unacc', 'vgood'], dtype=object)"
      ]
     },
     "execution_count": 8,
     "metadata": {},
     "output_type": "execute_result"
    }
   ],
   "source": [
    "clf.classes_"
   ]
  },
  {
   "cell_type": "code",
   "execution_count": null,
   "id": "c3742256",
   "metadata": {},
   "outputs": [],
   "source": []
  }
 ],
 "metadata": {
  "kernelspec": {
   "display_name": "Python 3",
   "language": "python",
   "name": "python3"
  },
  "language_info": {
   "codemirror_mode": {
    "name": "ipython",
    "version": 3
   },
   "file_extension": ".py",
   "mimetype": "text/x-python",
   "name": "python",
   "nbconvert_exporter": "python",
   "pygments_lexer": "ipython3",
   "version": "3.8.8"
  }
 },
 "nbformat": 4,
 "nbformat_minor": 5
}
